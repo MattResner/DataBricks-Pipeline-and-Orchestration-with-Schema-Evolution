{
 "cells": [
  {
   "cell_type": "markdown",
   "metadata": {
    "application/vnd.databricks.v1+cell": {
     "cellMetadata": {
      "byteLimit": 2048000,
      "rowLimit": 10000
     },
     "inputWidgets": {},
     "nuid": "7618bc9a-9127-4b64-a444-99da4d77fe90",
     "showTitle": false,
     "title": ""
    }
   },
   "source": [
    "#Investigating the results of our Bronze Layer Ingestion and Subsequent Data Cleaning and Aggregation\n",
    "\n",
    "\n"
   ]
  },
  {
   "cell_type": "code",
   "execution_count": 0,
   "metadata": {
    "application/vnd.databricks.v1+cell": {
     "cellMetadata": {
      "byteLimit": 2048000,
      "implicitDf": true,
      "rowLimit": 10000
     },
     "inputWidgets": {},
     "nuid": "70e8b58a-1ed8-4309-8e8b-00bb5b04c260",
     "showTitle": false,
     "title": ""
    }
   },
   "outputs": [
    {
     "output_type": "display_data",
     "data": {
      "text/html": [
       "<style scoped>\n",
       "  .table-result-container {\n",
       "    max-height: 300px;\n",
       "    overflow: auto;\n",
       "  }\n",
       "  table, th, td {\n",
       "    border: 1px solid black;\n",
       "    border-collapse: collapse;\n",
       "  }\n",
       "  th, td {\n",
       "    padding: 5px;\n",
       "  }\n",
       "  th {\n",
       "    text-align: left;\n",
       "  }\n",
       "</style><div class='table-result-container'><table class='table-result'><thead style='background-color: white'><tr><th>Row_ID</th><th>Store_ID</th><th>Year</th><th>Quarter</th><th>Total_Revenue</th><th>_rescued_data</th><th>COGS</th><th>Profit</th></tr></thead><tbody><tr><td>0</td><td>3</td><td>2023</td><td>Q1</td><td>46291.27495198135</td><td>null</td><td>null</td><td>null</td></tr><tr><td>1</td><td>3</td><td>2023</td><td>Q1</td><td>18737.659501830232</td><td>null</td><td>null</td><td>null</td></tr><tr><td>2</td><td>3</td><td>2023</td><td>Q1</td><td>22846.078536385416</td><td>null</td><td>null</td><td>null</td></tr><tr><td>12</td><td>5</td><td>2023</td><td>Q1</td><td>21314.800491345446</td><td>null</td><td>null</td><td>null</td></tr><tr><td>13</td><td>5</td><td>2023</td><td>Q1</td><td>17467.744345224746</td><td>null</td><td>null</td><td>null</td></tr></tbody></table></div>"
      ]
     },
     "metadata": {
      "application/vnd.databricks.v1+output": {
       "addedWidgets": {},
       "aggData": [],
       "aggError": "",
       "aggOverflow": false,
       "aggSchema": [],
       "aggSeriesLimitReached": false,
       "aggType": "",
       "arguments": {},
       "columnCustomDisplayInfos": {},
       "data": [
        [
         0,
         3,
         2023,
         "Q1",
         "46291.27495198135",
         null,
         null,
         null
        ],
        [
         1,
         3,
         2023,
         "Q1",
         "18737.659501830232",
         null,
         null,
         null
        ],
        [
         2,
         3,
         2023,
         "Q1",
         "22846.078536385416",
         null,
         null,
         null
        ],
        [
         12,
         5,
         2023,
         "Q1",
         "21314.800491345446",
         null,
         null,
         null
        ],
        [
         13,
         5,
         2023,
         "Q1",
         "17467.744345224746",
         null,
         null,
         null
        ]
       ],
       "datasetInfos": [],
       "dbfsResultPath": null,
       "isJsonSchema": true,
       "metadata": {
        "dataframeName": "_sqldf",
        "executionCount": 3
       },
       "overflow": false,
       "plotOptions": {
        "customPlotOptions": {},
        "displayType": "table",
        "pivotAggregation": null,
        "pivotColumns": null,
        "xColumns": null,
        "yColumns": null
       },
       "removedWidgets": [],
       "schema": [
        {
         "metadata": "{}",
         "name": "Row_ID",
         "type": "\"integer\""
        },
        {
         "metadata": "{}",
         "name": "Store_ID",
         "type": "\"integer\""
        },
        {
         "metadata": "{}",
         "name": "Year",
         "type": "\"integer\""
        },
        {
         "metadata": "{}",
         "name": "Quarter",
         "type": "\"string\""
        },
        {
         "metadata": "{}",
         "name": "Total_Revenue",
         "type": "\"string\""
        },
        {
         "metadata": "{}",
         "name": "_rescued_data",
         "type": "\"string\""
        },
        {
         "metadata": "{}",
         "name": "COGS",
         "type": "\"integer\""
        },
        {
         "metadata": "{}",
         "name": "Profit",
         "type": "\"double\""
        }
       ],
       "type": "table"
      }
     },
     "output_type": "display_data"
    }
   ],
   "source": [
    "%sql\n",
    "SELECT * FROM delta.`dbfs:/FileStore/tables/TraderJoesRevenue/bronze_tj_fact_revenue` LIMIT 5"
   ]
  },
  {
   "cell_type": "code",
   "execution_count": 0,
   "metadata": {
    "application/vnd.databricks.v1+cell": {
     "cellMetadata": {
      "byteLimit": 2048000,
      "implicitDf": true,
      "rowLimit": 10000
     },
     "inputWidgets": {},
     "nuid": "58869279-0037-4676-9c4c-721e1b767ec1",
     "showTitle": false,
     "title": ""
    }
   },
   "outputs": [
    {
     "output_type": "display_data",
     "data": {
      "text/html": [
       "<style scoped>\n",
       "  .table-result-container {\n",
       "    max-height: 300px;\n",
       "    overflow: auto;\n",
       "  }\n",
       "  table, th, td {\n",
       "    border: 1px solid black;\n",
       "    border-collapse: collapse;\n",
       "  }\n",
       "  th, td {\n",
       "    padding: 5px;\n",
       "  }\n",
       "  th {\n",
       "    text-align: left;\n",
       "  }\n",
       "</style><div class='table-result-container'><table class='table-result'><thead style='background-color: white'><tr><th>quarter</th><th>count(1)</th></tr></thead><tbody><tr><td>Q2</td><td>1779</td></tr><tr><td>Q1</td><td>1737</td></tr><tr><td>Q3</td><td>1533</td></tr><tr><td>Q4</td><td>1529</td></tr><tr><td>null</td><td>4547</td></tr></tbody></table></div>"
      ]
     },
     "metadata": {
      "application/vnd.databricks.v1+output": {
       "addedWidgets": {},
       "aggData": [],
       "aggError": "",
       "aggOverflow": false,
       "aggSchema": [],
       "aggSeriesLimitReached": false,
       "aggType": "",
       "arguments": {},
       "columnCustomDisplayInfos": {},
       "data": [
        [
         "Q2",
         1779
        ],
        [
         "Q1",
         1737
        ],
        [
         "Q3",
         1533
        ],
        [
         "Q4",
         1529
        ],
        [
         null,
         4547
        ]
       ],
       "datasetInfos": [],
       "dbfsResultPath": null,
       "isJsonSchema": true,
       "metadata": {
        "dataframeName": "_sqldf",
        "executionCount": 4
       },
       "overflow": false,
       "plotOptions": {
        "customPlotOptions": {},
        "displayType": "table",
        "pivotAggregation": null,
        "pivotColumns": null,
        "xColumns": null,
        "yColumns": null
       },
       "removedWidgets": [],
       "schema": [
        {
         "metadata": "{}",
         "name": "quarter",
         "type": "\"string\""
        },
        {
         "metadata": "{\"__autoGeneratedAlias\":\"true\"}",
         "name": "count(1)",
         "type": "\"long\""
        }
       ],
       "type": "table"
      }
     },
     "output_type": "display_data"
    }
   ],
   "source": [
    "%sql\n",
    "SELECT quarter, count(*) FROM delta.`dbfs:/FileStore/tables/TraderJoesRevenue/bronze_tj_fact_revenue` GROUP BY quarter;\n",
    "\n",
    "--SELECT * FROM delta.`dbfs:/FileStore/tables/TraderJoesRevenue/bronze_tj_fact_revenue`\n",
    "\n",
    "--DELETE FROM delta.`dbfs:/FileStore/tables/TraderJoesRevenue/bronze_tj_fact_revenue`\n"
   ]
  },
  {
   "cell_type": "markdown",
   "metadata": {
    "application/vnd.databricks.v1+cell": {
     "cellMetadata": {},
     "inputWidgets": {},
     "nuid": "79615e02-0faa-4ce6-9d9d-295cfab4ed15",
     "showTitle": false,
     "title": ""
    }
   },
   "source": [
    "We can also use the describe history command to show us each update to the table."
   ]
  },
  {
   "cell_type": "code",
   "execution_count": 0,
   "metadata": {
    "application/vnd.databricks.v1+cell": {
     "cellMetadata": {
      "byteLimit": 2048000,
      "implicitDf": true,
      "rowLimit": 10000
     },
     "inputWidgets": {},
     "nuid": "9d30fd9c-dee0-46d0-b950-5226c8c19b04",
     "showTitle": false,
     "title": ""
    }
   },
   "outputs": [
    {
     "output_type": "display_data",
     "data": {
      "text/html": [
       "<style scoped>\n",
       "  .table-result-container {\n",
       "    max-height: 300px;\n",
       "    overflow: auto;\n",
       "  }\n",
       "  table, th, td {\n",
       "    border: 1px solid black;\n",
       "    border-collapse: collapse;\n",
       "  }\n",
       "  th, td {\n",
       "    padding: 5px;\n",
       "  }\n",
       "  th {\n",
       "    text-align: left;\n",
       "  }\n",
       "</style><div class='table-result-container'><table class='table-result'><thead style='background-color: white'><tr><th>version</th><th>timestamp</th><th>userId</th><th>userName</th><th>operation</th><th>operationParameters</th><th>job</th><th>notebook</th><th>clusterId</th><th>readVersion</th><th>isolationLevel</th><th>isBlindAppend</th><th>operationMetrics</th><th>userMetadata</th><th>engineInfo</th></tr></thead><tbody><tr><td>4</td><td>2024-08-27T13:35:21Z</td><td>7971536220129282</td><td>matthew.resner@group1001.com</td><td>STREAMING UPDATE</td><td>Map(outputMode -> Append, queryId -> eca152c9-97c9-4cfc-a78f-a7c10a67f272, epochId -> 1, statsOnLoad -> false)</td><td>null</td><td>List(3309121777485539)</td><td>0801-194747-f0qk6m1o</td><td>3</td><td>WriteSerializable</td><td>true</td><td>Map(numRemovedFiles -> 0, numOutputRows -> 6111, numOutputBytes -> 44980, numAddedFiles -> 1)</td><td>null</td><td>Databricks-Runtime/15.3.x-cpu-ml-scala2.12</td></tr><tr><td>3</td><td>2024-08-27T13:35:18Z</td><td>7971536220129282</td><td>matthew.resner@group1001.com</td><td>STREAMING UPDATE</td><td>Map(outputMode -> Append, queryId -> eca152c9-97c9-4cfc-a78f-a7c10a67f272, epochId -> -1, statsOnLoad -> false)</td><td>null</td><td>List(3309121777485539)</td><td>0801-194747-f0qk6m1o</td><td>2</td><td>WriteSerializable</td><td>true</td><td>Map()</td><td>null</td><td>Databricks-Runtime/15.3.x-cpu-ml-scala2.12</td></tr><tr><td>2</td><td>2024-08-27T13:33:14Z</td><td>7971536220129282</td><td>matthew.resner@group1001.com</td><td>STREAMING UPDATE</td><td>Map(outputMode -> Append, queryId -> eca152c9-97c9-4cfc-a78f-a7c10a67f272, epochId -> 0, statsOnLoad -> false)</td><td>null</td><td>List(3309121777485539)</td><td>0801-194747-f0qk6m1o</td><td>1</td><td>WriteSerializable</td><td>true</td><td>Map(numRemovedFiles -> 0, numOutputRows -> 1549, numOutputBytes -> 37432, numAddedFiles -> 1)</td><td>null</td><td>Databricks-Runtime/15.3.x-cpu-ml-scala2.12</td></tr><tr><td>1</td><td>2024-08-27T13:33:04Z</td><td>7971536220129282</td><td>matthew.resner@group1001.com</td><td>STREAMING UPDATE</td><td>Map(outputMode -> Append, queryId -> eca152c9-97c9-4cfc-a78f-a7c10a67f272, epochId -> -1, statsOnLoad -> false)</td><td>null</td><td>List(3309121777485539)</td><td>0801-194747-f0qk6m1o</td><td>0</td><td>WriteSerializable</td><td>true</td><td>Map()</td><td>null</td><td>Databricks-Runtime/15.3.x-cpu-ml-scala2.12</td></tr><tr><td>0</td><td>2024-08-27T13:31:38Z</td><td>7971536220129282</td><td>matthew.resner@group1001.com</td><td>CREATE TABLE</td><td>Map(partitionBy -> [], clusterBy -> [], description -> null, isManaged -> true, properties -> {\"delta.enableDeletionVectors\":\"true\"}, statsOnLoad -> false)</td><td>null</td><td>List(285342671664234)</td><td>0801-194747-f0qk6m1o</td><td>null</td><td>WriteSerializable</td><td>true</td><td>Map()</td><td>null</td><td>Databricks-Runtime/15.3.x-cpu-ml-scala2.12</td></tr></tbody></table></div>"
      ]
     },
     "metadata": {
      "application/vnd.databricks.v1+output": {
       "addedWidgets": {},
       "aggData": [],
       "aggError": "",
       "aggOverflow": false,
       "aggSchema": [],
       "aggSeriesLimitReached": false,
       "aggType": "",
       "arguments": {},
       "columnCustomDisplayInfos": {},
       "data": [
        [
         4,
         "2024-08-27T13:35:21Z",
         "7971536220129282",
         "matthew.resner@group1001.com",
         "STREAMING UPDATE",
         {
          "epochId": "1",
          "outputMode": "Append",
          "queryId": "eca152c9-97c9-4cfc-a78f-a7c10a67f272",
          "statsOnLoad": "false"
         },
         null,
         [
          "3309121777485539"
         ],
         "0801-194747-f0qk6m1o",
         3,
         "WriteSerializable",
         true,
         {
          "numAddedFiles": "1",
          "numOutputBytes": "44980",
          "numOutputRows": "6111",
          "numRemovedFiles": "0"
         },
         null,
         "Databricks-Runtime/15.3.x-cpu-ml-scala2.12"
        ],
        [
         3,
         "2024-08-27T13:35:18Z",
         "7971536220129282",
         "matthew.resner@group1001.com",
         "STREAMING UPDATE",
         {
          "epochId": "-1",
          "outputMode": "Append",
          "queryId": "eca152c9-97c9-4cfc-a78f-a7c10a67f272",
          "statsOnLoad": "false"
         },
         null,
         [
          "3309121777485539"
         ],
         "0801-194747-f0qk6m1o",
         2,
         "WriteSerializable",
         true,
         {},
         null,
         "Databricks-Runtime/15.3.x-cpu-ml-scala2.12"
        ],
        [
         2,
         "2024-08-27T13:33:14Z",
         "7971536220129282",
         "matthew.resner@group1001.com",
         "STREAMING UPDATE",
         {
          "epochId": "0",
          "outputMode": "Append",
          "queryId": "eca152c9-97c9-4cfc-a78f-a7c10a67f272",
          "statsOnLoad": "false"
         },
         null,
         [
          "3309121777485539"
         ],
         "0801-194747-f0qk6m1o",
         1,
         "WriteSerializable",
         true,
         {
          "numAddedFiles": "1",
          "numOutputBytes": "37432",
          "numOutputRows": "1549",
          "numRemovedFiles": "0"
         },
         null,
         "Databricks-Runtime/15.3.x-cpu-ml-scala2.12"
        ],
        [
         1,
         "2024-08-27T13:33:04Z",
         "7971536220129282",
         "matthew.resner@group1001.com",
         "STREAMING UPDATE",
         {
          "epochId": "-1",
          "outputMode": "Append",
          "queryId": "eca152c9-97c9-4cfc-a78f-a7c10a67f272",
          "statsOnLoad": "false"
         },
         null,
         [
          "3309121777485539"
         ],
         "0801-194747-f0qk6m1o",
         0,
         "WriteSerializable",
         true,
         {},
         null,
         "Databricks-Runtime/15.3.x-cpu-ml-scala2.12"
        ],
        [
         0,
         "2024-08-27T13:31:38Z",
         "7971536220129282",
         "matthew.resner@group1001.com",
         "CREATE TABLE",
         {
          "clusterBy": "[]",
          "description": null,
          "isManaged": "true",
          "partitionBy": "[]",
          "properties": "{\"delta.enableDeletionVectors\":\"true\"}",
          "statsOnLoad": "false"
         },
         null,
         [
          "285342671664234"
         ],
         "0801-194747-f0qk6m1o",
         null,
         "WriteSerializable",
         true,
         {},
         null,
         "Databricks-Runtime/15.3.x-cpu-ml-scala2.12"
        ]
       ],
       "datasetInfos": [],
       "dbfsResultPath": null,
       "isJsonSchema": true,
       "metadata": {
        "dataframeName": "_sqldf",
        "executionCount": 5
       },
       "overflow": false,
       "plotOptions": {
        "customPlotOptions": {},
        "displayType": "table",
        "pivotAggregation": null,
        "pivotColumns": null,
        "xColumns": null,
        "yColumns": null
       },
       "removedWidgets": [],
       "schema": [
        {
         "metadata": "{}",
         "name": "version",
         "type": "\"long\""
        },
        {
         "metadata": "{}",
         "name": "timestamp",
         "type": "\"timestamp\""
        },
        {
         "metadata": "{}",
         "name": "userId",
         "type": "\"string\""
        },
        {
         "metadata": "{}",
         "name": "userName",
         "type": "\"string\""
        },
        {
         "metadata": "{}",
         "name": "operation",
         "type": "\"string\""
        },
        {
         "metadata": "{}",
         "name": "operationParameters",
         "type": "{\"type\":\"map\",\"keyType\":\"string\",\"valueType\":\"string\",\"valueContainsNull\":true}"
        },
        {
         "metadata": "{}",
         "name": "job",
         "type": "{\"type\":\"struct\",\"fields\":[{\"name\":\"jobId\",\"type\":\"string\",\"nullable\":true,\"metadata\":{}},{\"name\":\"jobName\",\"type\":\"string\",\"nullable\":true,\"metadata\":{}},{\"name\":\"jobRunId\",\"type\":\"string\",\"nullable\":true,\"metadata\":{}},{\"name\":\"runId\",\"type\":\"string\",\"nullable\":true,\"metadata\":{}},{\"name\":\"jobOwnerId\",\"type\":\"string\",\"nullable\":true,\"metadata\":{}},{\"name\":\"triggerType\",\"type\":\"string\",\"nullable\":true,\"metadata\":{}}]}"
        },
        {
         "metadata": "{}",
         "name": "notebook",
         "type": "{\"type\":\"struct\",\"fields\":[{\"name\":\"notebookId\",\"type\":\"string\",\"nullable\":true,\"metadata\":{}}]}"
        },
        {
         "metadata": "{}",
         "name": "clusterId",
         "type": "\"string\""
        },
        {
         "metadata": "{}",
         "name": "readVersion",
         "type": "\"long\""
        },
        {
         "metadata": "{}",
         "name": "isolationLevel",
         "type": "\"string\""
        },
        {
         "metadata": "{}",
         "name": "isBlindAppend",
         "type": "\"boolean\""
        },
        {
         "metadata": "{}",
         "name": "operationMetrics",
         "type": "{\"type\":\"map\",\"keyType\":\"string\",\"valueType\":\"string\",\"valueContainsNull\":true}"
        },
        {
         "metadata": "{}",
         "name": "userMetadata",
         "type": "\"string\""
        },
        {
         "metadata": "{}",
         "name": "engineInfo",
         "type": "\"string\""
        }
       ],
       "type": "table"
      }
     },
     "output_type": "display_data"
    }
   ],
   "source": [
    "%sql\n",
    "DESCRIBE HISTORY delta.`dbfs:/FileStore/tables/TraderJoesRevenue/bronze_tj_fact_revenue`"
   ]
  },
  {
   "cell_type": "markdown",
   "metadata": {
    "application/vnd.databricks.v1+cell": {
     "cellMetadata": {},
     "inputWidgets": {},
     "nuid": "17c8c0f0-b178-47b9-8b15-db2edf4e393c",
     "showTitle": false,
     "title": ""
    }
   },
   "source": [
    "What if we want to report on or record schema evolution to the business? Well then we just need to check the delta log files!"
   ]
  },
  {
   "cell_type": "code",
   "execution_count": 0,
   "metadata": {
    "application/vnd.databricks.v1+cell": {
     "cellMetadata": {
      "byteLimit": 2048000,
      "implicitDf": true,
      "rowLimit": 10000
     },
     "inputWidgets": {},
     "nuid": "fb548977-ca58-42d8-8c12-40fd92bf008f",
     "showTitle": false,
     "title": ""
    }
   },
   "outputs": [
    {
     "output_type": "display_data",
     "data": {
      "text/html": [
       "<style scoped>\n",
       "  .table-result-container {\n",
       "    max-height: 300px;\n",
       "    overflow: auto;\n",
       "  }\n",
       "  table, th, td {\n",
       "    border: 1px solid black;\n",
       "    border-collapse: collapse;\n",
       "  }\n",
       "  th, td {\n",
       "    padding: 5px;\n",
       "  }\n",
       "  th {\n",
       "    text-align: left;\n",
       "  }\n",
       "</style><div class='table-result-container'><table class='table-result'><thead style='background-color: white'><tr><th>STORE_ID</th><th>Year</th><th>Quarter</th><th>Total_Revenue</th><th>COGS</th><th>Profit</th></tr></thead><tbody><tr><td>733</td><td>2023</td><td>Q1</td><td>20658.73557159825</td><td>20025.0</td><td>633.7355716</td></tr><tr><td>746</td><td>2023</td><td>Q1</td><td>16698.026233745455</td><td>null</td><td>null</td></tr><tr><td>779</td><td>2023</td><td>Q1</td><td>17862.183504272398</td><td>null</td><td>null</td></tr><tr><td>752</td><td>2023</td><td>Q1</td><td>19732.001376954882</td><td>null</td><td>null</td></tr><tr><td>752</td><td>2023</td><td>Q1</td><td>30435.33610053258</td><td>26790.0</td><td>3645.336101</td></tr><tr><td>762</td><td>2023</td><td>Q1</td><td>49113.23130254069</td><td>36626.0</td><td>12487.2313</td></tr><tr><td>774</td><td>2023</td><td>Q1</td><td>27814.73015050899</td><td>27698.0</td><td>116.7301505</td></tr><tr><td>742</td><td>2023</td><td>Q1</td><td>17170.135138271748</td><td>null</td><td>null</td></tr><tr><td>772</td><td>2023</td><td>Q1</td><td>40074.793396835026</td><td>30227.0</td><td>9847.793397</td></tr><tr><td>741</td><td>2023</td><td>Q1</td><td>16235.499707974266</td><td>null</td><td>null</td></tr></tbody></table></div>"
      ]
     },
     "metadata": {
      "application/vnd.databricks.v1+output": {
       "addedWidgets": {},
       "aggData": [],
       "aggError": "",
       "aggOverflow": false,
       "aggSchema": [],
       "aggSeriesLimitReached": false,
       "aggType": "",
       "arguments": {},
       "columnCustomDisplayInfos": {},
       "data": [
        [
         "733",
         "2023",
         "Q1",
         20658.73557159825,
         20025.0,
         633.7355716
        ],
        [
         "746",
         "2023",
         "Q1",
         16698.026233745455,
         null,
         null
        ],
        [
         "779",
         "2023",
         "Q1",
         17862.183504272398,
         null,
         null
        ],
        [
         "752",
         "2023",
         "Q1",
         19732.001376954882,
         null,
         null
        ],
        [
         "752",
         "2023",
         "Q1",
         30435.33610053258,
         26790.0,
         3645.336101
        ],
        [
         "762",
         "2023",
         "Q1",
         49113.23130254069,
         36626.0,
         12487.2313
        ],
        [
         "774",
         "2023",
         "Q1",
         27814.73015050899,
         27698.0,
         116.7301505
        ],
        [
         "742",
         "2023",
         "Q1",
         17170.135138271748,
         null,
         null
        ],
        [
         "772",
         "2023",
         "Q1",
         40074.793396835026,
         30227.0,
         9847.793397
        ],
        [
         "741",
         "2023",
         "Q1",
         16235.499707974266,
         null,
         null
        ]
       ],
       "datasetInfos": [],
       "dbfsResultPath": null,
       "isJsonSchema": true,
       "metadata": {
        "dataframeName": "_sqldf",
        "executionCount": 1
       },
       "overflow": false,
       "plotOptions": {
        "customPlotOptions": {},
        "displayType": "table",
        "pivotAggregation": null,
        "pivotColumns": null,
        "xColumns": null,
        "yColumns": null
       },
       "removedWidgets": [],
       "schema": [
        {
         "metadata": "{}",
         "name": "STORE_ID",
         "type": "\"string\""
        },
        {
         "metadata": "{}",
         "name": "Year",
         "type": "\"string\""
        },
        {
         "metadata": "{}",
         "name": "Quarter",
         "type": "\"string\""
        },
        {
         "metadata": "{}",
         "name": "Total_Revenue",
         "type": "\"double\""
        },
        {
         "metadata": "{}",
         "name": "COGS",
         "type": "\"double\""
        },
        {
         "metadata": "{}",
         "name": "Profit",
         "type": "\"double\""
        }
       ],
       "type": "table"
      }
     },
     "output_type": "display_data"
    }
   ],
   "source": [
    "%sql\n",
    "\n",
    "SELECT * FROM tj_db.silver_tj_fact_revenue\n",
    "LIMIT 10"
   ]
  },
  {
   "cell_type": "code",
   "execution_count": 0,
   "metadata": {
    "application/vnd.databricks.v1+cell": {
     "cellMetadata": {
      "byteLimit": 2048000,
      "implicitDf": true,
      "rowLimit": 10000
     },
     "inputWidgets": {},
     "nuid": "d85314b0-7333-43ed-8b33-a1f63a287b1c",
     "showTitle": false,
     "title": ""
    }
   },
   "outputs": [
    {
     "output_type": "display_data",
     "data": {
      "text/html": [
       "<style scoped>\n",
       "  .table-result-container {\n",
       "    max-height: 300px;\n",
       "    overflow: auto;\n",
       "  }\n",
       "  table, th, td {\n",
       "    border: 1px solid black;\n",
       "    border-collapse: collapse;\n",
       "  }\n",
       "  th, td {\n",
       "    padding: 5px;\n",
       "  }\n",
       "  th {\n",
       "    text-align: left;\n",
       "  }\n",
       "</style><div class='table-result-container'><table class='table-result'><thead style='background-color: white'><tr><th>STORE_ID</th><th>Year</th><th>Quarter</th><th>Total_Revenue</th><th>COGS</th><th>Profit</th></tr></thead><tbody><tr><td>733</td><td>2023</td><td>Q1</td><td>20658.74</td><td>20025.0</td><td>633.74</td></tr><tr><td>746</td><td>2023</td><td>Q1</td><td>16698.03</td><td>null</td><td>null</td></tr><tr><td>779</td><td>2023</td><td>Q1</td><td>17862.18</td><td>null</td><td>null</td></tr><tr><td>752</td><td>2023</td><td>Q1</td><td>19732.0</td><td>null</td><td>null</td></tr><tr><td>752</td><td>2023</td><td>Q1</td><td>30435.34</td><td>26790.0</td><td>3645.34</td></tr><tr><td>762</td><td>2023</td><td>Q1</td><td>49113.23</td><td>36626.0</td><td>12487.23</td></tr><tr><td>774</td><td>2023</td><td>Q1</td><td>27814.73</td><td>27698.0</td><td>116.73</td></tr><tr><td>742</td><td>2023</td><td>Q1</td><td>17170.14</td><td>null</td><td>null</td></tr><tr><td>772</td><td>2023</td><td>Q1</td><td>40074.79</td><td>30227.0</td><td>9847.79</td></tr><tr><td>741</td><td>2023</td><td>Q1</td><td>16235.5</td><td>null</td><td>null</td></tr></tbody></table></div>"
      ]
     },
     "metadata": {
      "application/vnd.databricks.v1+output": {
       "addedWidgets": {},
       "aggData": [],
       "aggError": "",
       "aggOverflow": false,
       "aggSchema": [],
       "aggSeriesLimitReached": false,
       "aggType": "",
       "arguments": {},
       "columnCustomDisplayInfos": {},
       "data": [
        [
         "733",
         "2023",
         "Q1",
         20658.74,
         20025.0,
         633.74
        ],
        [
         "746",
         "2023",
         "Q1",
         16698.03,
         null,
         null
        ],
        [
         "779",
         "2023",
         "Q1",
         17862.18,
         null,
         null
        ],
        [
         "752",
         "2023",
         "Q1",
         19732.0,
         null,
         null
        ],
        [
         "752",
         "2023",
         "Q1",
         30435.34,
         26790.0,
         3645.34
        ],
        [
         "762",
         "2023",
         "Q1",
         49113.23,
         36626.0,
         12487.23
        ],
        [
         "774",
         "2023",
         "Q1",
         27814.73,
         27698.0,
         116.73
        ],
        [
         "742",
         "2023",
         "Q1",
         17170.14,
         null,
         null
        ],
        [
         "772",
         "2023",
         "Q1",
         40074.79,
         30227.0,
         9847.79
        ],
        [
         "741",
         "2023",
         "Q1",
         16235.5,
         null,
         null
        ]
       ],
       "datasetInfos": [],
       "dbfsResultPath": null,
       "isJsonSchema": true,
       "metadata": {
        "dataframeName": "_sqldf",
        "executionCount": 2
       },
       "overflow": false,
       "plotOptions": {
        "customPlotOptions": {},
        "displayType": "table",
        "pivotAggregation": null,
        "pivotColumns": null,
        "xColumns": null,
        "yColumns": null
       },
       "removedWidgets": [],
       "schema": [
        {
         "metadata": "{}",
         "name": "STORE_ID",
         "type": "\"string\""
        },
        {
         "metadata": "{}",
         "name": "Year",
         "type": "\"string\""
        },
        {
         "metadata": "{}",
         "name": "Quarter",
         "type": "\"string\""
        },
        {
         "metadata": "{}",
         "name": "Total_Revenue",
         "type": "\"double\""
        },
        {
         "metadata": "{}",
         "name": "COGS",
         "type": "\"double\""
        },
        {
         "metadata": "{}",
         "name": "Profit",
         "type": "\"double\""
        }
       ],
       "type": "table"
      }
     },
     "output_type": "display_data"
    }
   ],
   "source": [
    "%sql\n",
    "SELECT * FROM tj_db.silver_tj_fact_revenue_profit_recalc\n",
    "LIMIT 10"
   ]
  },
  {
   "cell_type": "code",
   "execution_count": 0,
   "metadata": {
    "application/vnd.databricks.v1+cell": {
     "cellMetadata": {
      "byteLimit": 2048000,
      "implicitDf": true,
      "rowLimit": 10000
     },
     "inputWidgets": {},
     "nuid": "d6189baf-17de-4129-899c-0f1b65f3fd1d",
     "showTitle": false,
     "title": ""
    }
   },
   "outputs": [
    {
     "output_type": "display_data",
     "data": {
      "text/html": [
       "<style scoped>\n",
       "  .table-result-container {\n",
       "    max-height: 300px;\n",
       "    overflow: auto;\n",
       "  }\n",
       "  table, th, td {\n",
       "    border: 1px solid black;\n",
       "    border-collapse: collapse;\n",
       "  }\n",
       "  th, td {\n",
       "    padding: 5px;\n",
       "  }\n",
       "  th {\n",
       "    text-align: left;\n",
       "  }\n",
       "</style><div class='table-result-container'><table class='table-result'><thead style='background-color: white'><tr><th>Year</th><th>Quarter</th><th>Total_Revenue</th><th>COGS</th><th>Profit</th></tr></thead><tbody><tr><td>2023</td><td>Q1</td><td>4.997046588E7</td><td>3929192.0</td><td>993693.0</td></tr></tbody></table></div>"
      ]
     },
     "metadata": {
      "application/vnd.databricks.v1+output": {
       "addedWidgets": {},
       "aggData": [],
       "aggError": "",
       "aggOverflow": false,
       "aggSchema": [],
       "aggSeriesLimitReached": false,
       "aggType": "",
       "arguments": {},
       "columnCustomDisplayInfos": {},
       "data": [
        [
         "2023",
         "Q1",
         4.997046588E7,
         3929192.0,
         993693.0
        ]
       ],
       "datasetInfos": [],
       "dbfsResultPath": null,
       "isJsonSchema": true,
       "metadata": {
        "dataframeName": "_sqldf",
        "executionCount": 3
       },
       "overflow": false,
       "plotOptions": {
        "customPlotOptions": {},
        "displayType": "table",
        "pivotAggregation": null,
        "pivotColumns": null,
        "xColumns": null,
        "yColumns": null
       },
       "removedWidgets": [],
       "schema": [
        {
         "metadata": "{}",
         "name": "Year",
         "type": "\"string\""
        },
        {
         "metadata": "{}",
         "name": "Quarter",
         "type": "\"string\""
        },
        {
         "metadata": "{}",
         "name": "Total_Revenue",
         "type": "\"double\""
        },
        {
         "metadata": "{}",
         "name": "COGS",
         "type": "\"double\""
        },
        {
         "metadata": "{}",
         "name": "Profit",
         "type": "\"double\""
        }
       ],
       "type": "table"
      }
     },
     "output_type": "display_data"
    }
   ],
   "source": [
    "%sql\n",
    "SELECT * FROM tj_db.gold_fact_revenue_by_quarter\n",
    "LIMIT 10"
   ]
  }
 ],
 "metadata": {
  "application/vnd.databricks.v1+notebook": {
   "dashboards": [],
   "environmentMetadata": null,
   "language": "python",
   "notebookMetadata": {
    "mostRecentlyExecutedCommandWithImplicitDF": {
     "commandId": 4166591341622480,
     "dataframes": [
      "_sqldf"
     ]
    },
    "pythonIndentUnit": 4
   },
   "notebookName": "3. Reporting Queries",
   "widgets": {}
  }
 },
 "nbformat": 4,
 "nbformat_minor": 0
}
